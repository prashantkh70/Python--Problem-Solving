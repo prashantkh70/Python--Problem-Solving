{
 "cells": [
  {
   "cell_type": "markdown",
   "id": "aba6badf",
   "metadata": {},
   "source": [
    "## Topics: Variables, String, int, float"
   ]
  },
  {
   "cell_type": "markdown",
   "id": "330e2ac7",
   "metadata": {},
   "source": [
    "##### Prepared by roll number 18 - Prashant Khairnar"
   ]
  },
  {
   "cell_type": "markdown",
   "id": "9c8d16a2",
   "metadata": {},
   "source": [
    "#### 1. What are the key features of Python?"
   ]
  },
  {
   "cell_type": "code",
   "execution_count": null,
   "id": "7e45badb",
   "metadata": {},
   "outputs": [],
   "source": [
    "Answer:\n",
    "1. Python is a interpreted language which means it doesnt require compilation.\n",
    "2. Python is high level language where every thing written in python is object, \n",
    "   #so, it is called Object oriented language.\n",
    "3. Python language is easy to debug. \n",
    "4. It is open source and free along \n",
    "5. It has vast library support, some of them are numpy, pandas , sckitlearn which are used in data science field.\n",
    "6. Unlike other language, Python doesnt need to declare variables Thus, it is called Dynamically typed language. \n",
    "7. Python is easy for programmming as it is simple to read, write and learn.\n",
    "\n"
   ]
  },
  {
   "cell_type": "markdown",
   "id": "d23e48e1",
   "metadata": {},
   "source": [
    "#### 2. What are the Data Types in Python?"
   ]
  },
  {
   "cell_type": "code",
   "execution_count": null,
   "id": "54d161f5",
   "metadata": {},
   "outputs": [],
   "source": [
    "Answer:\n",
    "    \n",
    "In programming, data type is an important concept.\n",
    "Variables can store data of different types, and different types can do different things.\n",
    "Python has the following data types built-in by default, in these categories:\n",
    "\n",
    "    Text Type:\t    str\n",
    "    Numeric Types:\tint, float, complex\n",
    "    Sequence Types:\tlist, tuple, range\n",
    "    Mapping Type:\tdict\n",
    "    Set Types:\t    set\n",
    "    Boolean Type:\tbool\n",
    "    Binary Types:\tbytes, bytearray, memoryview\n",
    "    None Type:\t    NoneType\n",
    "\n"
   ]
  },
  {
   "cell_type": "markdown",
   "id": "3dd67438",
   "metadata": {},
   "source": [
    "#### 3. What are local variables and global variables in Python?"
   ]
  },
  {
   "cell_type": "code",
   "execution_count": null,
   "id": "b591e61c",
   "metadata": {},
   "outputs": [],
   "source": [
    "1. Global variable- It is decleared outside the function. \n",
    "                    Global variables can be used by everyone, both inside of functions and outside.\n",
    "                    To create a global variable inside a function, you can use the global keyword.\n",
    "        \n",
    "Ex. 1] Create a variable outside of a function, and use it inside the function\n",
    "\n",
    "x = \"awesome\"\n",
    "def myfunc():\n",
    "  print(\"Python is \" + x)\n",
    "myfunc()\n",
    "\n",
    "Ex. 2] When defining global variable inside the function.\n",
    "\n",
    "def myfunc():\n",
    "  global x\n",
    "  x = \"fantastic\"\n",
    "myfunc()\n",
    "print(\"Python is \" + x)\n",
    "\n",
    "        \n",
    "2. Local Variable >> It is decleared inside the function.\n",
    "                    Local variables can be used inside of functions.\n",
    "                    \n",
    "Ex.1 ] \n",
    " \n",
    "def Even_number(x):\n",
    "      if (x % 2) == 0:\n",
    "              print (“The number {} is even”.format(x))\n",
    "      else:\n",
    "              print (“The provided number is odd”)"
   ]
  },
  {
   "cell_type": "markdown",
   "id": "be99f016",
   "metadata": {},
   "source": [
    "#### 4. How do you write comments in python? And Why Comments are important?"
   ]
  },
  {
   "cell_type": "code",
   "execution_count": null,
   "id": "bdde42fd",
   "metadata": {},
   "outputs": [],
   "source": [
    "Answer:\n",
    "In python , Comment start with # and while execution , python ingore the line starting with #.\n",
    "\n",
    "Why Comments are important:\n",
    "1] Comments can be used to explain Python code.\n",
    "2] Comments can be used to make the code more readable.\n",
    "3] Comments can be used to prevent execution when testing code.\n",
    "\n",
    "Ex.\n",
    "**Comments can be used to explain Python code.\n",
    "1] #My first program\n",
    "    print(\"Hello, World!\")\n",
    "\n",
    "**Comments can be used to prevent execution when testing code.\n",
    "2] #print(\"No, I dont want to get executed, Please put # in front of me\")\n",
    "    print(\"okay, Now I am Happy. Dont forget to print me\")"
   ]
  },
  {
   "cell_type": "markdown",
   "id": "34da1289",
   "metadata": {},
   "source": [
    "#### 5. How to comment on multiple lines in python?"
   ]
  },
  {
   "cell_type": "code",
   "execution_count": null,
   "id": "c24a2f7d",
   "metadata": {},
   "outputs": [],
   "source": [
    "Answer:\n",
    "1] To add a multiline comment you could insert a # for each line.\n",
    "Ex: \n",
    "#This is a comment\n",
    "#written in\n",
    "#more than just one line \n",
    "# but I am using # for each line \n",
    "# and it's frustrating.\n",
    "\n",
    "print(\"Hello, World!\")\n",
    "\n",
    "2] Or Triple quotes (\"\"\"    \"\"\") can be used in your code, and place your comment inside it.\n",
    "\n",
    "\"\"\"\n",
    "This is a comment\n",
    "written in\n",
    "more than just one line\n",
    "and I am proud\n",
    "for my first program.\n",
    "\"\"\"\n",
    "print(\"Hello, World!\")"
   ]
  },
  {
   "cell_type": "markdown",
   "id": "48c788fc",
   "metadata": {},
   "source": [
    "#### 6. What do you mean by Python literals?"
   ]
  },
  {
   "cell_type": "code",
   "execution_count": null,
   "id": "63094e01",
   "metadata": {},
   "outputs": [],
   "source": [
    "Answer:\n",
    "    Literals in Python is defined as the raw data assigned to variables or constants while programming. \n",
    "\n",
    "We mainly have five types of literals which includes:\n",
    "1] String literals,\n",
    "2] Numeric literals, \n",
    "3] Boolean literals, \n",
    "4] Literal collections and \n",
    "5] Special literal None.\n",
    "\n",
    "1] String literals: These are enclosed within single quotes (‘’) are known as single-line strings.\n",
    "Ex. \n",
    "#single line literal\n",
    "single_quotes_string=' I am Prashant Khairnar'\n",
    "\n",
    "We can also use  \\n or \"\"\"   \"\"\"  for multi line string literals.\n",
    "\n",
    "2] Numerical literals:  These are literals that contain digits only and are immutable.\n",
    "Integer literal\n",
    "x = 2586\n",
    "\n",
    "Complex literal\n",
    "a=7 + 8j\n",
    "b=5j\n",
    "\n",
    "\n",
    "3] Boolean literals: Boolean literals in Python are pretty straight-forward and have only two values-\n",
    "\n",
    "True- True represents the value 1.\n",
    "False-False represents the value 0.\n",
    "\n",
    "4] Literal collections:\n",
    "If we wish to work with more than one value, then we can go for literal collections in Python. \n",
    "Literal collections in Python are of four types-\n",
    "\n",
    "    a] List Literals   :    numbers = [10, 20, 30, 40, 50]    names = ['John', 'Jake', 'Jason', 25]\n",
    "    b] Tuple Literals  :    even_numbers = (2, 4, 6, 8)       vowels=('a','e','i','o','u')  \n",
    "    c] Dictionary Literals: my_dict = {'a': 'apple', 'b': 'bat', 'c': 'car'}\n",
    "    d] Set Literals :       vowels = {'a', 'e', 'i', 'o', 'u'}\n",
    "\n",
    "\n",
    "\n",
    "5] Python literals have one special literal known as None. This literal in Python is used to \n",
    "signify that a particular field is not created.\n",
    "Python will print None as output when we print the variable with no value assigned to it. \n",
    "None is also used for end of lists in Python.\n",
    "\n",
    "#special literals\n",
    "val=None\n",
    "print(val)\n",
    "\n",
    ">> None\n",
    "\n"
   ]
  },
  {
   "cell_type": "markdown",
   "id": "93ece54f",
   "metadata": {},
   "source": [
    "#### 7. What are different ways to assign value to variables?"
   ]
  },
  {
   "cell_type": "code",
   "execution_count": null,
   "id": "19031eb5",
   "metadata": {},
   "outputs": [],
   "source": [
    "Answer: \n",
    "It can be directly declared to the variable and assign a value using the = sign. \n",
    "If the variable is declare multiple times, then the last declaration’s value will be used by the program.\n",
    "\n",
    "a = 5\n",
    "a = 6\n",
    "a = 10\n",
    "print(a)\n",
    "\n",
    ">> 10\n",
    "    \n",
    "\n",
    "Using if-else\n",
    " We can initialize value of a variable using some conditions. \n",
    "The evaluation of the result of the condition will become the value of the variable.\n",
    "\n",
    "x = 12\n",
    "y = 13 if x > 8 else 0\n",
    "# printing value of a\n",
    "print(\"Value of z is: \" + str(y))\n",
    "\n",
    ">>> Value of z is: 13"
   ]
  },
  {
   "cell_type": "markdown",
   "id": "b8793cb7",
   "metadata": {},
   "source": [
    "#### 8. What are the Escape Characters in python?"
   ]
  },
  {
   "cell_type": "code",
   "execution_count": null,
   "id": "097e4766",
   "metadata": {},
   "outputs": [],
   "source": [
    "An escape character is a backslash \\ followed by the character you want to insert.\n",
    "An example of an illegal character is a double quote inside a string that is surrounded by double quotes:\n",
    "    txt = \"We are the so-called \"Vikings\" from the north.\"\n",
    "    \n",
    "The escape character allows you to use double quotes when you normally would not be allowed:\n",
    "    txt = \"We are the so-called \\\"Vikings\\\" from the north.\"\n",
    "    \n",
    "Some of the escape characterarecters are:\n",
    "\\'  Single Quote\n",
    "\\\\  Backslash\n",
    "\\n  New Line\n",
    "\\r  Carriage Return\n",
    "\\t  Tab\n",
    "\\b  Backspace\n",
    "\\f  Form Feed\n",
    "\\ooo Octal value\n",
    "\\xhh Hex value"
   ]
  },
  {
   "cell_type": "markdown",
   "id": "89107519",
   "metadata": {},
   "source": [
    "#### 9. Which are the different ways to perform string formatting? Explain with example."
   ]
  },
  {
   "cell_type": "code",
   "execution_count": null,
   "id": "2c857af7",
   "metadata": {},
   "outputs": [],
   "source": [
    "String formatting is the process of infusing things in the string dynamically and presenting the string. \n",
    "There are four different ways to perform string formatting:-\n",
    "\n",
    "1] Formatting with % Operator.\n",
    "It is the oldest method of string formatting. Here we use the modulo % operator. \n",
    "The modulo % is also known as the “string-formatting operator”.\n",
    "\n",
    "x = 'looked'\n",
    " \n",
    "print(\"Prashant %s and %s around\"%('walked',x))\n",
    ">>> Prashant walked and looked around. \n",
    "\n",
    "2] Formatting with format() string method.\n",
    "Format() method was introduced with Python3 for handling complex string formatting more efficiently. \n",
    "Syntax: ‘String here {} then also {}’.format(‘something1′,’something2’)\n",
    "\n",
    "\n",
    "print('We all are {}.'.format('equal'))\n",
    ">>>We all are equal.\n",
    "\n",
    "\n",
    "print('{2} {1} {0}'.format('directions',\n",
    "                           'the', 'Read'))\n",
    ">>> Read the directions.\n",
    "                           \n",
    "3] Formatting with string literals, called f-strings.\n",
    "\n",
    "To create an f-string, prefix the string with the letter “ f ”. \n",
    "The string itself can be formatted in much the same way that you would with str.format(). \n",
    "F-strings provide a concise and convenient way to embed python expressions inside string \n",
    "literals for formatting.\n",
    "\n",
    "\n",
    "name = 'Ele'\n",
    "print(f\"My name is {name}.\")\n",
    ">>> My name is Ele.\n",
    "\n",
    "\n",
    "\n",
    "4 ] Formatting with String Template Class\n",
    "Template Class allows us to create simplified syntax for output specification. \n",
    "The format uses placeholder names formed by $ with valid Python identifiers \n",
    "\n",
    "from string import Template\n",
    "n1 = 'Hello'\n",
    "n2 = 'World'\n",
    "n = Template('$n3 ! This is $n4.')\n",
    "print(n.substitute(n3=n1, n4=n2))\n"
   ]
  },
  {
   "cell_type": "markdown",
   "id": "f56526b1",
   "metadata": {},
   "source": [
    "#### 10. Write a program to print every character of a string entered by the user in a new line using a loop"
   ]
  },
  {
   "cell_type": "code",
   "execution_count": 93,
   "id": "10d23397",
   "metadata": {},
   "outputs": [
    {
     "name": "stdout",
     "output_type": "stream",
     "text": [
      "Prashant\n",
      "P\n",
      "r\n",
      "a\n",
      "s\n",
      "h\n",
      "a\n",
      "n\n",
      "t\n"
     ]
    }
   ],
   "source": [
    "String = input()    # User input function input()\n",
    "\n",
    "for i in String:    # For loop to access every charecter in string\n",
    "    print(i)"
   ]
  },
  {
   "cell_type": "markdown",
   "id": "2346d24c",
   "metadata": {},
   "source": [
    "#### 11. Write a program to find the length of the string \"machine learning\" with and without using len function."
   ]
  },
  {
   "cell_type": "code",
   "execution_count": 41,
   "id": "96373f54",
   "metadata": {},
   "outputs": [
    {
     "name": "stdout",
     "output_type": "stream",
     "text": [
      "Length of Machine leaning using length func is : 16 \n",
      "Length of Machine leaning without len function is 16 \n"
     ]
    }
   ],
   "source": [
    "string= 'machine learning'   # defined a string\n",
    "print(\"Length of Machine leaning using length func is : {} \".format(len(string)))  #  .format() method\n",
    "\n",
    "count=0               # using count=0 for initial condition\n",
    "for n in string:      # using each for loop to access each charecter in string \n",
    "    count+=1          # count increament by 1 \n",
    "print(\"Length of Machine leaning without len function is {} \".format(count))\n",
    "\n"
   ]
  },
  {
   "cell_type": "markdown",
   "id": "898c998f",
   "metadata": {},
   "source": [
    "#### 12. Write a program to check if the word 'orange' is present in the \"This is orange juice\"."
   ]
  },
  {
   "cell_type": "code",
   "execution_count": 34,
   "id": "9928895d",
   "metadata": {},
   "outputs": [
    {
     "name": "stdout",
     "output_type": "stream",
     "text": [
      "Yes\n"
     ]
    },
    {
     "data": {
      "text/plain": [
       "True"
      ]
     },
     "execution_count": 34,
     "metadata": {},
     "output_type": "execute_result"
    }
   ],
   "source": [
    "#1]\n",
    "Juice= \"This is orange juice\"\n",
    "\n",
    "if \"orange\" in Juice:\n",
    "    print(\"Yes\")\n",
    "    \n",
    "#or\n",
    "#2]\n",
    "\"orange\" in  \"This is orange juice\""
   ]
  },
  {
   "cell_type": "markdown",
   "id": "d1e4ebf4",
   "metadata": {},
   "source": [
    "#### 13. Write a program to find the number of vowels, consonants, digits, and white space characters in a string."
   ]
  },
  {
   "cell_type": "code",
   "execution_count": 142,
   "id": "ea23b6b3",
   "metadata": {},
   "outputs": [
    {
     "name": "stdout",
     "output_type": "stream",
     "text": [
      "Total number of Vowels are 242\n",
      "Total number of consonants are 369\n",
      "Total number of digits are 24\n",
      "Total number of white_space are 117\n",
      "Total number of letters are 778\n"
     ]
    },
    {
     "data": {
      "text/plain": [
       "778"
      ]
     },
     "execution_count": 142,
     "metadata": {},
     "output_type": "execute_result"
    }
   ],
   "source": [
    "text = \"\"\"The term \"data science\" has been traced back to 1974, when Peter Naur proposed \n",
    "it as an alternative name for computer science.[3] In 1996, the International Federation \n",
    "of Classification Societies became the first conference to specifically feature data \n",
    "science as a topic.[3] However, the definition was still in flux. After the 1985 lecture in \n",
    "the Chinese Academy of Sciences in Beijing, in 1997 C. F. Jeff Wu again suggested \n",
    "that statistics should be renamed data science. He reasoned that a new name would \n",
    "help statistics shed inaccurate stereotypes, such as being synonymouswith accounting, \n",
    "or limited to describing data.[22] In 1998, Hayashi Chikio argued for \n",
    "data science as a new, interdisciplinary concept, with three aspects: data design, \n",
    "collection, and analysis. \"\"\"\n",
    "\n",
    "Vowels=0     # defining all paramater having count=0, as we have to find number of count for each\n",
    "consonants=0\n",
    "digits=0\n",
    "white_space=0\n",
    "special_char=0\n",
    "\n",
    "for n in range(0,len(text)):   # using for loop to access each char.\n",
    "                                #Using range() function to cover length of whole string\n",
    "    char = text[n]           # defining variable to access each index of string by puting text[n] \n",
    "                                #- n will replace by index\n",
    "    if char in \"aioueAIOUE\":  # Finding char in vowels by using 'in' \n",
    "        Vowels += 1           #  Increatment the vowel by 1 if any found in string\n",
    "    elif char in \"0123456789\":     #Finding Number in string\n",
    "        digits += 1            #Increamenting count of digit by 1 , if found\n",
    "    elif char in \" \":          # Finding blank space\n",
    "        white_space += 1       # Same increamenting\n",
    "    elif char in \"!@#$%^&*(){}[]<>:;./?|\"''\"\\,\":    # Same for special charecter\n",
    "        special_char +=1        \n",
    "    else:                            # Rest charecters will be covered in else condition\n",
    "        consonants+= 1\n",
    "        pass\n",
    "        \n",
    "print(f\"Total number of Vowels are {Vowels}\")#Printing vowels, consonent, digits, spaces using f string. \n",
    "print(f\"Total number of consonants are {consonants}\")\n",
    "print(f\"Total number of digits are {digits}\")\n",
    "print(f\"Total number of white_space are {white_space}\")\n",
    "\n",
    "Total_letter = Vowels+ consonants + digits +white_space+special_char    \n",
    "                                    # calculating total count of charecters by adding\n",
    "print(f\"Total number of letters are {Total_letter}\")           \n",
    "len(text)                            # Total letter == len(text)  - validated program is correct."
   ]
  },
  {
   "cell_type": "markdown",
   "id": "17696e2f",
   "metadata": {},
   "source": [
    "#### 14. Write a Python program to count Uppercase, Lowercase, special character, and numeric values in a given string."
   ]
  },
  {
   "cell_type": "code",
   "execution_count": 143,
   "id": "0d5bec6e",
   "metadata": {},
   "outputs": [
    {
     "name": "stdout",
     "output_type": "stream",
     "text": [
      "Total number of UPPERCASE are 22\n",
      "Total number of lowercase are 581\n",
      "Total number of Numerical values are 24\n",
      "Total number of special charecter are 143\n"
     ]
    }
   ],
   "source": [
    "UPPERCASE=0\n",
    "lowercase=0\n",
    "Num_value=0\n",
    "special_char=0\n",
    "\n",
    "for n in range(0,len(text)):\n",
    "    char = text[n]\n",
    "    if char in \"ABCDEFGHIJKLMNOPQRSTUVWXYZ\":\n",
    "        UPPERCASE += 1\n",
    "    elif char in \"abcdefghijklmnopqrstuvwxyz\":\n",
    "        lowercase += 1\n",
    "    elif char in \"0123456789\":\n",
    "        Num_value += 1\n",
    "    elif char in \"!@#$%^&*()_+-={}[]<>|\\/?:;' '\"\",.\":\n",
    "        special_char +=1        \n",
    "    else:\n",
    "        pass\n",
    "\n",
    "print(f\"Total number of UPPERCASE are {UPPERCASE}\")\n",
    "print(f\"Total number of lowercase are {lowercase}\")\n",
    "print(f\"Total number of Numerical values are {Num_value}\")\n",
    "print(f\"Total number of special charecter are {special_char}\")  \n"
   ]
  },
  {
   "cell_type": "markdown",
   "id": "29c426a4",
   "metadata": {},
   "source": [
    "#### 15. Write a program to make a new string with all the consonants deleted from the string \"Hello, have a good day\"."
   ]
  },
  {
   "cell_type": "code",
   "execution_count": 222,
   "id": "cc77e3b8",
   "metadata": {},
   "outputs": [
    {
     "name": "stdout",
     "output_type": "stream",
     "text": [
      "eoaeaooa"
     ]
    }
   ],
   "source": [
    "string_1= \"Hello, have a good day\"            \n",
    "\n",
    "for n in range(0,len(string_1)):\n",
    "    char = string_1[n]\n",
    "    if char in \"aioueAIOUE\":\n",
    "        print(char,end=\"\")                # end= \" \"  removes /n  and shows output in one line\n",
    "    else:\n",
    "        string_1.replace(char,'') #replace(old,new)-used to replace / remove charecter by another charecter\n",
    "         \n",
    "\n"
   ]
  },
  {
   "cell_type": "markdown",
   "id": "ca306fea",
   "metadata": {},
   "source": [
    "#### 16. Write a Python program to remove the nth index character from a non-empty string."
   ]
  },
  {
   "cell_type": "code",
   "execution_count": 12,
   "id": "2756bcd5",
   "metadata": {},
   "outputs": [
    {
     "name": "stdout",
     "output_type": "stream",
     "text": [
      "Enter index location = 2\n"
     ]
    },
    {
     "data": {
      "text/plain": [
       "'mahine learning'"
      ]
     },
     "execution_count": 12,
     "metadata": {},
     "output_type": "execute_result"
    }
   ],
   "source": [
    "S=\"machine learning\"    # defined a string as S\n",
    "\n",
    "\n",
    "S_index=S[int(input(\"Enter index location = \"))]   # Taken integer input index in S[]\n",
    "\n",
    "S.replace(S_index,\"\",-1)  # .replace function is used replace index- S.replace(old, new, count=-1)\n",
    "\n"
   ]
  },
  {
   "cell_type": "markdown",
   "id": "4cda4eea",
   "metadata": {},
   "source": [
    "#### 17. Write a Python program to change a given string to a new string where the first and last characters have been exchanged."
   ]
  },
  {
   "cell_type": "code",
   "execution_count": 26,
   "id": "429aea35",
   "metadata": {},
   "outputs": [
    {
     "name": "stdout",
     "output_type": "stream",
     "text": [
      "gachine learninm\n"
     ]
    }
   ],
   "source": [
    "S1=\"machine learning\"    # defined a string as S1\n",
    "n=len(S1)                \n",
    "S1= S[-1:]+S[1:-1]+S[0]   # s[-1] for accessing last char.  s[1:-1] for accessing index 1 to -1   \n",
    "                            # s[0] -used to access 1st\n",
    "print(S1)                     # + is used for string concatenating operation\n"
   ]
  },
  {
   "cell_type": "markdown",
   "id": "f59dbd1f",
   "metadata": {},
   "source": [
    "#### 18. Write a Python program to count the occurrences of each word in a given sentence."
   ]
  },
  {
   "cell_type": "code",
   "execution_count": 72,
   "id": "0c28bd97",
   "metadata": {},
   "outputs": [
    {
     "name": "stdout",
     "output_type": "stream",
     "text": [
      "The  1\n",
      "term  1\n",
      "\"data  1\n",
      "science\"  1\n",
      "has  1\n",
      "been  1\n",
      "traced  1\n",
      "back  1\n",
      "to  3\n",
      "1974,  1\n",
      "when  1\n",
      "Peter  1\n",
      "Naur  1\n",
      "proposed  1\n",
      "it  1\n",
      "as  4\n",
      "an  1\n",
      "alternative  1\n",
      "name  2\n",
      "for  2\n",
      "computer  1\n",
      "science.[3]  1\n",
      "In  2\n",
      "1996,  1\n",
      "the  5\n",
      "International  1\n",
      "Federation  1\n",
      "of  2\n",
      "Classification  1\n",
      "Societies  1\n",
      "became  1\n",
      "the  5\n",
      "first  1\n",
      "conference  1\n",
      "to  3\n",
      "specifically  1\n",
      "feature  1\n",
      "data  4\n",
      "science  2\n",
      "as  4\n",
      "a  3\n",
      "topic.[3]  1\n",
      "However,  1\n",
      "the  5\n",
      "definition  1\n",
      "was  1\n",
      "still  1\n",
      "in  4\n",
      "flux.  1\n",
      "After  1\n",
      "the  5\n",
      "1985  1\n",
      "lecture  1\n",
      "in  4\n",
      "the  5\n",
      "Chinese  1\n",
      "Academy  1\n",
      "of  2\n",
      "Sciences  1\n",
      "in  4\n",
      "Beijing,  1\n",
      "in  4\n",
      "1997  1\n",
      "C.  1\n",
      "F.  1\n",
      "Jeff  1\n",
      "Wu  1\n",
      "again  1\n",
      "suggested  1\n",
      "that  2\n",
      "statistics  2\n",
      "should  1\n",
      "be  1\n",
      "renamed  1\n",
      "data  4\n",
      "science.  1\n",
      "He  1\n",
      "reasoned  1\n",
      "that  2\n",
      "a  3\n",
      "new  1\n",
      "name  2\n",
      "would  1\n",
      "help  1\n",
      "statistics  2\n",
      "shed  1\n",
      "inaccurate  1\n",
      "stereotypes,  1\n",
      "such  1\n",
      "as  4\n",
      "being  1\n",
      "synonymous  1\n",
      "with  2\n",
      "accounting,  1\n",
      "or  1\n",
      "limited  1\n",
      "to  3\n",
      "describing  1\n",
      "data.[22]  1\n",
      "In  2\n",
      "1998,  1\n",
      "Hayashi  1\n",
      "Chikio  1\n",
      "argued  1\n",
      "for  2\n",
      "data  4\n",
      "science  2\n",
      "as  4\n",
      "a  3\n",
      "new,  1\n",
      "interdisciplinary  1\n",
      "concept,  1\n",
      "with  2\n",
      "three  1\n",
      "aspects:  1\n",
      "data  4\n",
      "design,  1\n",
      "collection,  1\n",
      "and  1\n",
      "analysis.  1\n"
     ]
    }
   ],
   "source": [
    "text = \"\"\"The term \"data science\" has been traced back to 1974, when Peter Naur proposed \n",
    "it as an alternative name for computer science.[3] In 1996, the International Federation \n",
    "of Classification Societies became the first conference to specifically feature data \n",
    "science as a topic.[3] However, the definition was still in flux. After the 1985 lecture in \n",
    "the Chinese Academy of Sciences in Beijing, in 1997 C. F. Jeff Wu again suggested \n",
    "that statistics should be renamed data science. He reasoned that a new name would \n",
    "help statistics shed inaccurate stereotypes, such as being synonymouswith accounting, \n",
    "or limited to describing data.[22] In 1998, Hayashi Chikio argued for \n",
    "data science as a new, interdisciplinary concept, with three aspects: data design, \n",
    "collection, and analysis. \"\"\"\n",
    "\n",
    "text= text.split()       # to convert whole sentence into single word . used spilt() \n",
    "\n",
    "for i in text:\n",
    "    substring = i                # defining variable name for each element i in text\n",
    "    count = text.count(substring)   # counting occurance of each words\n",
    "    print(f\"{substring} \", count)     # f string to put words and its count together in output.\n",
    "    "
   ]
  },
  {
   "cell_type": "markdown",
   "id": "dae8f936",
   "metadata": {},
   "source": [
    "#### 19. How do you count the occurrence of a given character in a string?"
   ]
  },
  {
   "cell_type": "code",
   "execution_count": 211,
   "id": "cd18db33",
   "metadata": {},
   "outputs": [
    {
     "name": "stdout",
     "output_type": "stream",
     "text": [
      "The count is: 39\n"
     ]
    }
   ],
   "source": [
    "text = \"\"\"The term \"data science\" has been traced back to 1974, when Peter Naur proposed \n",
    "it as an alternative name for computer science.[3] In 1996, the International Federation \n",
    "of Classification Societies became the first conference to specifically feature data \n",
    "science as a topic.[3] However, the definition was still in flux. After the 1985 lecture in \n",
    "the Chinese Academy of Sciences in Beijing, in 1997 C. F. Jeff Wu again suggested \n",
    "that statistics should be renamed data science. He reasoned that a new name would \n",
    "help statistics shed inaccurate stereotypes, such as being synonymouswith accounting, \n",
    "or limited to describing data.[22] In 1998, Hayashi Chikio argued for \n",
    "data science as a new, interdisciplinary concept, with three aspects: data design, \n",
    "collection, and analysis. \"\"\"\n",
    "\n",
    "substring = \"c\"     # selecring charecter to occurrences in string\n",
    "\n",
    "count = text.count(substring)\n",
    "\n",
    "# print count\n",
    "print(\"The count is:\", count)"
   ]
  },
  {
   "cell_type": "markdown",
   "id": "f38beca4",
   "metadata": {},
   "source": [
    "#### 20. Write a program to find last 10 characters of a string?"
   ]
  },
  {
   "cell_type": "code",
   "execution_count": 93,
   "id": "ddb81749",
   "metadata": {},
   "outputs": [
    {
     "name": "stdout",
     "output_type": "stream",
     "text": [
      "(0, 'interdisciplinary')\n",
      "(1, 'concept,')\n",
      "(2, 'with')\n",
      "(3, 'three')\n",
      "(4, 'aspects:')\n",
      "(5, 'data')\n",
      "(6, 'design,')\n",
      "(7, 'collection,')\n",
      "(8, 'and')\n",
      "(9, 'analysis.')\n"
     ]
    }
   ],
   "source": [
    "text = \"\"\"The term \"data science\" has been traced back to 1974, when Peter Naur proposed \n",
    "it as an alternative name for computer science.[3] In 1996, the International Federation \n",
    "of Classification Societies became the first conference to specifically feature data \n",
    "science as a topic.[3] However, the definition was still in flux. After the 1985 lecture in \n",
    "the Chinese Academy of Sciences in Beijing, in 1997 C. F. Jeff Wu again suggested \n",
    "that statistics should be renamed data science. He reasoned that a new name would \n",
    "help statistics shed inaccurate stereotypes, such as being synonymouswith accounting, \n",
    "or limited to describing data.[22] In 1998, Hayashi Chikio argued for \n",
    "data science as a new, interdisciplinary concept, with three aspects: data design, \n",
    "collection, and analysis. \"\"\"\n",
    "\n",
    "text= text.split()          # spliting string into each word by using .spilt()\n",
    "last_10_text=text[-10:]    # as only last ten is needed, we have selected by using [-10:] \n",
    "                            #and to new variable 'last_10_text'\n",
    "last_10_text               \n",
    "\n",
    "for i in enumerate(last_10_text):   # enumerate used here to get index or count \n",
    "    print(i)\n"
   ]
  },
  {
   "cell_type": "markdown",
   "id": "6cd2141a",
   "metadata": {},
   "source": [
    "#### 21. WAP to convert a given string to all uppercase if it contains at least 2 uppercase characters in the first 4 characters."
   ]
  },
  {
   "cell_type": "code",
   "execution_count": 138,
   "id": "eba4e613",
   "metadata": {},
   "outputs": [
    {
     "name": "stdout",
     "output_type": "stream",
     "text": [
      "PRashant K\n",
      "PRASHANT K\n"
     ]
    }
   ],
   "source": [
    "text = input()\n",
    "\n",
    "UPPERCASE=0\n",
    "lowercase=0\n",
    "\n",
    "for i in range(0,4):\n",
    "    char=text[i]\n",
    "    if char in \"ABCDEFGHIJKLMNOPQRSTUVWXYZ\":\n",
    "        UPPERCASE += 1\n",
    "    if (UPPERCASE>=2):        \n",
    "        string=text.upper()     # upper() - to UPPERCASE the letters\n",
    "print (string)\n",
    "\n",
    "\n",
    "        "
   ]
  },
  {
   "cell_type": "markdown",
   "id": "81603f5e",
   "metadata": {},
   "source": [
    "#### 22. Write a Python program to remove a newline in Python."
   ]
  },
  {
   "cell_type": "code",
   "execution_count": 1,
   "id": "32afd1b3",
   "metadata": {},
   "outputs": [
    {
     "data": {
      "text/plain": [
       "'The term \"data science\" has been traced back to 1974, when Peter Naur proposed \\nit as an alternative name for computer science.[3] In 1996, the International Federation \\nof Classification Societies became the first conference to specifically feature data \\nscience as a topic.[3] However, the definition was still in flux. After the 1985 lecture in \\nthe Chinese Academy of Sciences in Beijing, in 1997 C. F. Jeff Wu again suggested \\nthat statistics should be renamed data science. He reasoned that a new name would \\nhelp statistics shed inaccurate stereotypes, such as being synonymouswith accounting, \\nor limited to describing data.[22] In 1998, Hayashi Chikio argued for \\ndata science as a new, interdisciplinary concept, with three aspects: data design, \\ncollection, and analysis. '"
      ]
     },
     "execution_count": 1,
     "metadata": {},
     "output_type": "execute_result"
    }
   ],
   "source": [
    "text = \"\"\"The term \"data science\" has been traced back to 1974, when Peter Naur proposed \n",
    "it as an alternative name for computer science.[3] In 1996, the International Federation \n",
    "of Classification Societies became the first conference to specifically feature data \n",
    "science as a topic.[3] However, the definition was still in flux. After the 1985 lecture in \n",
    "the Chinese Academy of Sciences in Beijing, in 1997 C. F. Jeff Wu again suggested \n",
    "that statistics should be renamed data science. He reasoned that a new name would \n",
    "help statistics shed inaccurate stereotypes, such as being synonymouswith accounting, \n",
    "or limited to describing data.[22] In 1998, Hayashi Chikio argued for \n",
    "data science as a new, interdisciplinary concept, with three aspects: data design, \n",
    "collection, and analysis. \"\"\"\n",
    "text"
   ]
  },
  {
   "cell_type": "code",
   "execution_count": 2,
   "id": "bfcf0e9c",
   "metadata": {},
   "outputs": [
    {
     "name": "stdout",
     "output_type": "stream",
     "text": [
      "The term \"data science\" has been traced back to 1974, when Peter Naur proposed \n",
      "it as an alternative name for computer science.[3] In 1996, the International Federation \n",
      "of Classification Societies became the first conference to specifically feature data \n",
      "science as a topic.[3] However, the definition was still in flux. After the 1985 lecture in \n",
      "the Chinese Academy of Sciences in Beijing, in 1997 C. F. Jeff Wu again suggested \n",
      "that statistics should be renamed data science. He reasoned that a new name would \n",
      "help statistics shed inaccurate stereotypes, such as being synonymouswith accounting, \n",
      "or limited to describing data.[22] In 1998, Hayashi Chikio argued for \n",
      "data science as a new, interdisciplinary concept, with three aspects: data design, \n",
      "collection, and analysis.  "
     ]
    }
   ],
   "source": [
    "print(text, end=\" \")    # end=\" \"  - removes '\\n' in the string"
   ]
  },
  {
   "cell_type": "markdown",
   "id": "e5076771",
   "metadata": {},
   "source": [
    "#### 23. Write a Python program to swap commas and dots in a string\n",
    "○ Sample string: \"32.054,23\"\n",
    "○ Expected Output: \"32,054.23\""
   ]
  },
  {
   "cell_type": "code",
   "execution_count": 178,
   "id": "b74f5795",
   "metadata": {},
   "outputs": [
    {
     "name": "stdout",
     "output_type": "stream",
     "text": [
      "32,054.23\n"
     ]
    }
   ],
   "source": [
    "text = \"32.054,23\"\n",
    "output = []       #  used list function so , it can be appended.\n",
    "\n",
    "for i in range(len(text)):\n",
    "    if text[i] == \".\":\n",
    "        output.append(\",\")   \n",
    "    elif text[i] == \",\":\n",
    "        output.append(\".\")      \n",
    "    else:\n",
    "        output.append(text[i])\n",
    "\n",
    "print(\"\".join(output))"
   ]
  },
  {
   "cell_type": "code",
   "execution_count": null,
   "id": "25a4c5a7",
   "metadata": {},
   "outputs": [],
   "source": []
  },
  {
   "cell_type": "markdown",
   "id": "68f4e69e",
   "metadata": {},
   "source": [
    "#### 24. Write a Python program to find the first repeated character in a given string"
   ]
  },
  {
   "cell_type": "code",
   "execution_count": 214,
   "id": "57d68f4c",
   "metadata": {},
   "outputs": [
    {
     "name": "stdout",
     "output_type": "stream",
     "text": [
      "o\n"
     ]
    }
   ],
   "source": [
    "text_1 = 'Google'\n",
    "text_2 = text_1     \n",
    "x = len(text_1)\n",
    "count = 0\n",
    "for i in range(0,x):    # nested for loops are used where i and j ,are element checked on after another\n",
    "    for j in range(i+1,x):      \n",
    "        if(text_1[i] == text_2[j]):   # if two letters one after another are same\n",
    "            print(text_1[i])         # print that letter\n",
    "            count+=1                  # as we want to stop after first repeated chareacter\n",
    "        if(count==1):break             # breaking the loop"
   ]
  },
  {
   "cell_type": "markdown",
   "id": "1dd6e7fc",
   "metadata": {},
   "source": [
    "#### 25. Write a Python program to find the second most repeated word in a given string"
   ]
  },
  {
   "cell_type": "code",
   "execution_count": 194,
   "id": "7be9d4ea",
   "metadata": {},
   "outputs": [
    {
     "name": "stdout",
     "output_type": "stream",
     "text": [
      "o\n",
      "l\n",
      "e\n",
      "e\n",
      "d\n",
      "u\n"
     ]
    }
   ],
   "source": [
    "text_1 = 'Googleduudle'\n",
    "text_2 = text_1\n",
    "x = len(text_1)\n",
    "count = 0\n",
    "for i in range(0,x):\n",
    "    for j in range(i+1,x):\n",
    "        if(text_1[i] == text_2[j]):\n",
    "            print(text_1[i])\n",
    "            count+=1\n",
    "            if(count == 3):\n",
    "                print(text_1[i])"
   ]
  },
  {
   "cell_type": "markdown",
   "id": "260b4ee5",
   "metadata": {},
   "source": [
    "#### 26. Python program to Count Even and Odd numbers in a string"
   ]
  },
  {
   "cell_type": "code",
   "execution_count": 203,
   "id": "1265a5a7",
   "metadata": {},
   "outputs": [
    {
     "name": "stdout",
     "output_type": "stream",
     "text": [
      "11\n",
      "10\n"
     ]
    }
   ],
   "source": [
    "string_even_odd = '168768767467467587698'\n",
    "length_s = len(string_even_odd)\n",
    "\n",
    "Count_Even = 0\n",
    "Count_Odd = 0\n",
    "for i in range(0,length_s):\n",
    "    if(i%2 == 0):\n",
    "        Count_Even +=1\n",
    "    else:\n",
    "        Count_Odd +=1\n",
    "print(f\"Total even number are {Count_Even}\")\n",
    "print(f\"Total even number are {Count_Odd}\")"
   ]
  },
  {
   "cell_type": "markdown",
   "id": "69e5a6f1",
   "metadata": {},
   "source": [
    "#### 27. How do you check if a string contains only digits?"
   ]
  },
  {
   "cell_type": "code",
   "execution_count": 209,
   "id": "3552fd29",
   "metadata": {},
   "outputs": [
    {
     "data": {
      "text/plain": [
       "True"
      ]
     },
     "execution_count": 209,
     "metadata": {},
     "output_type": "execute_result"
    }
   ],
   "source": [
    "text_3 = \"089809832094820934\"\n",
    "\n",
    "text_3.isdigit()           #isdigit() is used "
   ]
  },
  {
   "cell_type": "markdown",
   "id": "514b8ef3",
   "metadata": {},
   "source": [
    "#### 28. How do you remove a given character/word from String?"
   ]
  },
  {
   "cell_type": "code",
   "execution_count": 3,
   "id": "35f3abb2",
   "metadata": {},
   "outputs": [
    {
     "name": "stdout",
     "output_type": "stream",
     "text": [
      "Enter The word= data\n",
      "The term \" science\" has been traced back to 1974, when Peter Naur proposed \n",
      "it as an alternative name for computer science.[3] In 1996, the International Federation \n",
      "of Classification Societies became the first conference to specifically feature  \n",
      "science as a topic.[3] However, the definition was still in flux. After the 1985 lecture in \n",
      "the Chinese Academy of Sciences in Beijing, in 1997 C. F. Jeff Wu again suggested \n",
      "that statistics should be renamed  science. He reasoned that a new name would \n",
      "help statistics shed inaccurate stereotypes, such as being synonymouswith accounting, \n",
      "or limited to describing .[22] In 1998, Hayashi Chikio argued for \n",
      " science as a new, interdisciplinary concept, with three aspects:  design, \n",
      "collection, and analysis. \n"
     ]
    }
   ],
   "source": [
    "text = \"\"\"The term \"data science\" has been traced back to 1974, when Peter Naur proposed \n",
    "it as an alternative name for computer science.[3] In 1996, the International Federation \n",
    "of Classification Societies became the first conference to specifically feature data \n",
    "science as a topic.[3] However, the definition was still in flux. After the 1985 lecture in \n",
    "the Chinese Academy of Sciences in Beijing, in 1997 C. F. Jeff Wu again suggested \n",
    "that statistics should be renamed data science. He reasoned that a new name would \n",
    "help statistics shed inaccurate stereotypes, such as being synonymouswith accounting, \n",
    "or limited to describing data.[22] In 1998, Hayashi Chikio argued for \n",
    "data science as a new, interdisciplinary concept, with three aspects: data design, \n",
    "collection, and analysis. \"\"\"\n",
    "\n",
    "given_string=input(\"Enter The word= \")\n",
    "print(text.replace(given_string,\"\"))   "
   ]
  },
  {
   "cell_type": "markdown",
   "id": "a68888ec",
   "metadata": {},
   "source": [
    "#### 29. Write a Python program to remove the characters which have odd index values of a given string"
   ]
  },
  {
   "cell_type": "code",
   "execution_count": 4,
   "id": "ee237cd5",
   "metadata": {},
   "outputs": [
    {
     "name": "stdout",
     "output_type": "stream",
     "text": [
      "String with charecter having non-odd index values=  Tetr dt cec\"hsbe rcdbc o17,we ee arpooe i sa lentv aefrcmue cec.3 n19,teItrainlFdrto o lsiiainSceisbcm h is ofrnet pcfclyfauedt sinea  oi.3 oee,tedfnto a tl nfu.Atrte18 etr n\n",
      "h hns cdm fSine nBiig n19 .F efW gi ugse ta ttsissol ernmddt cec.H esndta  e aewud\n",
      "epsaitc hdiacrt troye,sc sbigsnnmuwt conig o iie odsrbn aa[2 n19,HysiCii rudfr\n",
      "aasinea  e,itricpiaycnet ihtreapcs aadsg,\n",
      "olcin n nlss \n"
     ]
    }
   ],
   "source": [
    "text = \"\"\"The term \"data science\" has been traced back to 1974, when Peter Naur proposed \n",
    "it as an alternative name for computer science.[3] In 1996, the International Federation \n",
    "of Classification Societies became the first conference to specifically feature data \n",
    "science as a topic.[3] However, the definition was still in flux. After the 1985 lecture in \n",
    "the Chinese Academy of Sciences in Beijing, in 1997 C. F. Jeff Wu again suggested \n",
    "that statistics should be renamed data science. He reasoned that a new name would \n",
    "help statistics shed inaccurate stereotypes, such as being synonymouswith accounting, \n",
    "or limited to describing data.[22] In 1998, Hayashi Chikio argued for \n",
    "data science as a new, interdisciplinary concept, with three aspects: data design, \n",
    "collection, and analysis. \"\"\"\n",
    "\n",
    "empty=\"\"                         # creating empty string to add new values\n",
    "for i in range(len(text)):       # for loop for going through each letter in the length of whole text.\n",
    "    if i%2==0:                   # Selecting only even numbered index values \n",
    "        empty+=text[i]           # adding those values in empty string one by one, while in loop\n",
    "print(\"String with charecter having non-odd index values= \",empty)   \n",
    "                                # print even numbered letter .i.e removing odd."
   ]
  },
  {
   "cell_type": "markdown",
   "id": "4fdbe363",
   "metadata": {},
   "source": [
    "#### 30. Write a Python function to reverses a string if its length is a multiple of 5"
   ]
  },
  {
   "cell_type": "code",
   "execution_count": 25,
   "id": "6678c6a3",
   "metadata": {},
   "outputs": [
    {
     "name": "stdout",
     "output_type": "stream",
     "text": [
      "Length of text is 125 \n",
      ".ecneics retupmoc rof\n",
      " eman evinretla na sa ti desoporp ruaN reteP nehw ,4791 ot kcab decart neeb sah \"ecneics atad\" mret ehT\n",
      "Length of text is 125 \n",
      ".ecneics retupmoc rof\n",
      " eman evinretla na sa ti desoporp ruaN reteP nehw ,4791 ot kcab decart neeb sah \"ecneics atad\" mret ehT\n",
      "None\n"
     ]
    }
   ],
   "source": [
    "Text_2=\"\"\"The term \"data science\" has been traced back to 1974, when Peter Naur proposed it as an alternive name \n",
    "for computer science.\"\"\"\n",
    "\n",
    "length_text2=len(Text_2)\n",
    "if length_text2 % 5==0:       # here text is selected with 125 letters in it. to rerverse the string.\n",
    "    print(f\"Length of text is {length_text2} \") \n",
    "    print(Text_2[::-1])        # if condition met , [::-1] is used to reverse any string\n",
    "else:\n",
    "    print(Text_2)              # if it is not multiple of 5 , it will be printed as it is.\n",
    "    \n",
    "#or  As it is asked to create a python function.\n",
    "\n",
    "def rev_func_5(x):              # new function is created by using name ' rev_func_5'\n",
    "    length=len(x)               # same above syntax is used to check, it is in multiple of 5 or not  \n",
    "    if length%5==0:\n",
    "        print(f\"Length of text is {length} \") \n",
    "        print(x[::-1])\n",
    "    else:\n",
    "        print(x)\n",
    "        \n",
    "a=rev_func_5(Text_2)            # to get result . the string is put in the above defined function. \n",
    "                                # assigned it to variable a.\n",
    "print(a)                        # printing a or result"
   ]
  },
  {
   "cell_type": "markdown",
   "id": "f5b5acab",
   "metadata": {},
   "source": [
    "#### 31. Write a Python program to format a number with a percentage(0.05 >> 5%)"
   ]
  },
  {
   "cell_type": "code",
   "execution_count": 26,
   "id": "0bc19609",
   "metadata": {},
   "outputs": [
    {
     "name": "stdout",
     "output_type": "stream",
     "text": [
      "5%\n"
     ]
    }
   ],
   "source": [
    "Number=0.05\n",
    "\n",
    "print(f\"{Number:.0%}\")    "
   ]
  },
  {
   "cell_type": "markdown",
   "id": "afced2c9",
   "metadata": {},
   "source": [
    "#### 32. Write a Python program to reverse words in a string"
   ]
  },
  {
   "cell_type": "code",
   "execution_count": 37,
   "id": "ce070f3b",
   "metadata": {},
   "outputs": [
    {
     "name": "stdout",
     "output_type": "stream",
     "text": [
      "(*v*)  yeyy i get reversed ,esrever teg ot gniog ma I ,yyeY\n"
     ]
    }
   ],
   "source": [
    "Reverse_Me=\"Yeyy, I am going to get reverse, desrever teg i yyey  )*v*(\"\n",
    "\n",
    "print(Reverse_Me[::-1])              #[::-1]  is used to reverse any string"
   ]
  },
  {
   "cell_type": "markdown",
   "id": "759de76a",
   "metadata": {},
   "source": [
    "#### 33. Write a Python program to swap cases of a given string"
   ]
  },
  {
   "cell_type": "code",
   "execution_count": 39,
   "id": "7ac80dcf",
   "metadata": {},
   "outputs": [
    {
     "data": {
      "text/plain": [
       "'i aM gOING tO gET sWAPCASED'"
      ]
     },
     "execution_count": 39,
     "metadata": {},
     "output_type": "execute_result"
    }
   ],
   "source": [
    "Swap_Me=\"I Am Going To Get Swapcased\"\n",
    "\n",
    "Swap_Me.swapcase()  # SWAPCASE is used to change the uppercase to lower and lowercase to upper."
   ]
  },
  {
   "cell_type": "markdown",
   "id": "60bbcafa",
   "metadata": {},
   "source": [
    "#### 34. Write a Python program to remove spaces from a given string"
   ]
  },
  {
   "cell_type": "code",
   "execution_count": 48,
   "id": "02eee48b",
   "metadata": {},
   "outputs": [
    {
     "data": {
      "text/plain": [
       "'Okremovethespacesnow'"
      ]
     },
     "execution_count": 48,
     "metadata": {},
     "output_type": "execute_result"
    }
   ],
   "source": [
    "Remove_Spaces=\"Ok remove the spaces now \"\n",
    "\n",
    "Remove_Spaces.replace(\" \",\"\")"
   ]
  },
  {
   "cell_type": "markdown",
   "id": "3b14e5ba",
   "metadata": {},
   "source": [
    "#### 35. Write a Python program to remove duplicate characters of a given string"
   ]
  },
  {
   "cell_type": "code",
   "execution_count": 59,
   "id": "4fd25b77",
   "metadata": {},
   "outputs": [
    {
     "name": "stdout",
     "output_type": "stream",
     "text": [
      "The trm\"dascinbko1974,wPNuplv\n",
      "f.[3]I6FCSyHxA85BjgJW2:\n"
     ]
    }
   ],
   "source": [
    "text = \"\"\"The term \"data science\" has been traced back to 1974, when Peter Naur proposed \n",
    "it as an alternative name for computer science.[3] In 1996, the International Federation \n",
    "of Classification Societies became the first conference to specifically feature data \n",
    "science as a topic.[3] However, the definition was still in flux. After the 1985 lecture in \n",
    "the Chinese Academy of Sciences in Beijing, in 1997 C. F. Jeff Wu again suggested \n",
    "that statistics should be renamed data science. He reasoned that a new name would \n",
    "help statistics shed inaccurate stereotypes, such as being synonymouswith accounting, \n",
    "or limited to describing data.[22] In 1998, Hayashi Chikio argued for \n",
    "data science as a new, interdisciplinary concept, with three aspects: data design, \n",
    "collection, and analysis. \"\"\"\n",
    "\n",
    "Blank_string=\"\"\n",
    "\n",
    "for char in text:\n",
    "    if char not in Blank_string:\n",
    "        Blank_string=Blank_string+char\n",
    "print(Blank_string)\n"
   ]
  },
  {
   "cell_type": "markdown",
   "id": "f75d7fcd",
   "metadata": {},
   "source": [
    "#### 36. Write a Python Program to find the area of a circle"
   ]
  },
  {
   "cell_type": "code",
   "execution_count": 68,
   "id": "2896d5a5",
   "metadata": {},
   "outputs": [
    {
     "name": "stdout",
     "output_type": "stream",
     "text": [
      "Enter the radius of circle: 25\n",
      "Area_of_Circle is 1962.5\n"
     ]
    }
   ],
   "source": [
    "Radius = int(input('Enter the radius of circle: '))\n",
    "Area_of_Circle = 3.14*Radius*Radius\n",
    "print(f\"Area_of_Circle is {Area_of_Circle}\") "
   ]
  },
  {
   "cell_type": "markdown",
   "id": "f7ab59c5",
   "metadata": {},
   "source": [
    "#### 37. Python Program to find Sum of squares of first n natural numbers"
   ]
  },
  {
   "cell_type": "code",
   "execution_count": 77,
   "id": "b53b805a",
   "metadata": {},
   "outputs": [
    {
     "name": "stdout",
     "output_type": "stream",
     "text": [
      "Put Number to square them 16\n",
      "1496\n"
     ]
    }
   ],
   "source": [
    "Number_1= int(input('Put Number to square them '))\n",
    "sum_of_square =0\n",
    "for i in range(1,Number_1+1):\n",
    "    square= i*i\n",
    "    sum_of_square += square\n",
    "print(sum_of_square)"
   ]
  },
  {
   "cell_type": "markdown",
   "id": "4cfc3daf",
   "metadata": {},
   "source": [
    "#### 38. Python Program to find cube sum of first n natural numbers"
   ]
  },
  {
   "cell_type": "code",
   "execution_count": 78,
   "id": "f04a3bce",
   "metadata": {},
   "outputs": [
    {
     "name": "stdout",
     "output_type": "stream",
     "text": [
      "Put Number to square them 16\n",
      "18496\n"
     ]
    }
   ],
   "source": [
    "Number_2= int(input('Put Number to square them '))\n",
    "sum_of_cubes =0\n",
    "for i in range(1,Number_2+1):\n",
    "    cube= i*i*i\n",
    "    sum_of_cubes += cube\n",
    "print(sum_of_cubes)"
   ]
  },
  {
   "cell_type": "markdown",
   "id": "e8195335",
   "metadata": {},
   "source": [
    "#### 39. Python Program to find simple interest and compound interest"
   ]
  },
  {
   "cell_type": "code",
   "execution_count": 86,
   "id": "068d752e",
   "metadata": {},
   "outputs": [
    {
     "name": "stdout",
     "output_type": "stream",
     "text": [
      "Enter principal amount: 100000\n",
      "Enter number of years:  20\n",
      "Enter rate of interest:  7\n",
      "Simple interest is 140000.0\n",
      "Compound interest is 386968.44624861836\n"
     ]
    }
   ],
   "source": [
    "p = float(input('Enter principal amount: '))\n",
    "n = float(input('Enter number of years:  '))\n",
    "r = float(input('Enter rate of interest:  '))\n",
    "\n",
    "SI = (p * n * r)/100\n",
    "print(f\"Simple interest is {SI}\")\n",
    "\n",
    "CI = p * (pow((1 + r / 100), n))\n",
    "print(f\"Compound interest is {CI}\")"
   ]
  },
  {
   "cell_type": "markdown",
   "id": "2dda62cc",
   "metadata": {},
   "source": [
    "#### 40. Python program to check whether a number is Prime or not"
   ]
  },
  {
   "cell_type": "code",
   "execution_count": 91,
   "id": "cfb230ab",
   "metadata": {},
   "outputs": [
    {
     "name": "stdout",
     "output_type": "stream",
     "text": [
      "Enter any number.= 345\n",
      "The entered number 345 is Prime \n"
     ]
    }
   ],
   "source": [
    "Number_3=int(input(\"Enter any number.= \"))\n",
    "\n",
    "if Number_3%2==0:\n",
    "    print(f\"The entered number {Number_3} is not Prime \")\n",
    "else:\n",
    "    print(f\"The entered number {Number_3} is Prime \")"
   ]
  },
  {
   "cell_type": "code",
   "execution_count": null,
   "id": "fc633282",
   "metadata": {},
   "outputs": [],
   "source": []
  }
 ],
 "metadata": {
  "kernelspec": {
   "display_name": "Python 3",
   "language": "python",
   "name": "python3"
  },
  "language_info": {
   "codemirror_mode": {
    "name": "ipython",
    "version": 3
   },
   "file_extension": ".py",
   "mimetype": "text/x-python",
   "name": "python",
   "nbconvert_exporter": "python",
   "pygments_lexer": "ipython3",
   "version": "3.8.8"
  }
 },
 "nbformat": 4,
 "nbformat_minor": 5
}
